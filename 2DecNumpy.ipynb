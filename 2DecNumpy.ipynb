{
  "nbformat": 4,
  "nbformat_minor": 0,
  "metadata": {
    "colab": {
      "name": "2DecNumpy.ipynb",
      "private_outputs": true,
      "provenance": []
    },
    "kernelspec": {
      "name": "python3",
      "display_name": "Python 3"
    },
    "language_info": {
      "name": "python"
    }
  },
  "cells": [
    {
      "cell_type": "markdown",
      "metadata": {
        "id": "c0X6mAkBmaTB"
      },
      "source": [
        "Source Links :\n",
        "\n",
        "[https://www.nfaicompany.com/numpy-mcqs/](https://)  till 13 questions\n",
        "\n",
        "[https://numpy.org/doc/stable/reference/arrays.datetime.html](https://)\n",
        "\n",
        "Author : Abin Isaac\n"
      ]
    },
    {
      "cell_type": "markdown",
      "metadata": {
        "id": "6ScbxPeobgmF"
      },
      "source": [
        "If a dimension is given as __ in a reshaping operation,\n",
        "the other dimensions are automatically calculated ?\n",
        "\n",
        "Ans : Negative values _1, -2 ....."
      ]
    },
    {
      "cell_type": "code",
      "metadata": {
        "id": "TKVQrtLSb4ng"
      },
      "source": [
        "import numpy as np\n",
        "array = np.array([1,2,3,4])\n",
        "array.reshape((-4,))"
      ],
      "execution_count": null,
      "outputs": []
    },
    {
      "cell_type": "markdown",
      "metadata": {
        "id": "DcHPh8U-dhvI"
      },
      "source": [
        " Q 3 Statements about Numpy array ?\n",
        " \n",
        " A. ndarray.itemsize is the buffer containing \n",
        "    the actual elements of the array.\n",
        " B. NumPy main object is the homogeneous \n",
        "    multidimensional array\n",
        " C. In Numpy, dimensions are called axes"
      ]
    },
    {
      "cell_type": "code",
      "metadata": {
        "id": "OHMUUcUjd0bf"
      },
      "source": [
        "array.itemsize"
      ],
      "execution_count": null,
      "outputs": []
    },
    {
      "cell_type": "markdown",
      "metadata": {
        "id": "6q6wXjS4olEW"
      },
      "source": [
        "#datetime in numpy"
      ]
    },
    {
      "cell_type": "code",
      "metadata": {
        "id": "yRik_RBfguF6"
      },
      "source": [
        "np.datetime64('2005-02-25')"
      ],
      "execution_count": null,
      "outputs": []
    },
    {
      "cell_type": "code",
      "metadata": {
        "id": "LW-pl4MqgxCR"
      },
      "source": [
        "np.datetime64(0, 'Y') # capital Y for year..starts from 1970 when you put 0 and increases one by one..try entrering m and h in place of Y"
      ],
      "execution_count": null,
      "outputs": []
    },
    {
      "cell_type": "code",
      "metadata": {
        "id": "ummFyR0Vg0iJ"
      },
      "source": [
        "np.datetime64('2005-02')"
      ],
      "execution_count": null,
      "outputs": []
    },
    {
      "cell_type": "code",
      "metadata": {
        "id": "S4SleJUdg7WJ"
      },
      "source": [
        "np.datetime64('2005-02')"
      ],
      "execution_count": null,
      "outputs": []
    },
    {
      "cell_type": "code",
      "metadata": {
        "id": "8QpDNfFOg9k0"
      },
      "source": [
        "np.datetime64('2005-02-25T03:30')"
      ],
      "execution_count": null,
      "outputs": []
    },
    {
      "cell_type": "code",
      "metadata": {
        "id": "mW0tWgE1g_eR"
      },
      "source": [
        "np.datetime64('nat') # Not a Time or nat "
      ],
      "execution_count": null,
      "outputs": []
    },
    {
      "cell_type": "code",
      "metadata": {
        "id": "0h2_fcUchC4r"
      },
      "source": [
        "np.array(['2007-07-13', '2006-01-13', '2010-08-13'], dtype='datetime64') # days"
      ],
      "execution_count": null,
      "outputs": []
    },
    {
      "cell_type": "code",
      "metadata": {
        "id": "W9e-GkJwhGJV"
      },
      "source": [
        "np.array(['2001-01-01T12:00', '2002-02-03T13:56:03.172'], dtype='datetime64') # microsecond or ms"
      ],
      "execution_count": null,
      "outputs": []
    },
    {
      "cell_type": "code",
      "metadata": {
        "id": "xDoxo70XiLNJ"
      },
      "source": [
        "q=np.array(['2001-01-01T12:00' ], dtype='datetime64')\n",
        "a=np.array(['2002-02-03T13:56:03.172'], dtype='datetime64')\n",
        "a-q  # differences in ms"
      ],
      "execution_count": null,
      "outputs": []
    }
  ]
}