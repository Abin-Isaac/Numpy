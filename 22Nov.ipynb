{
  "nbformat": 4,
  "nbformat_minor": 0,
  "metadata": {
    "colab": {
      "name": "22Nov.ipynb",
      "private_outputs": true,
      "provenance": []
    },
    "kernelspec": {
      "name": "python3",
      "display_name": "Python 3"
    },
    "language_info": {
      "name": "python"
    }
  },
  "cells": [
    {
      "cell_type": "code",
      "metadata": {
        "id": "ljF06jIrpa3y"
      },
      "source": [
        "import numpy as np"
      ],
      "execution_count": null,
      "outputs": []
    },
    {
      "cell_type": "markdown",
      "metadata": {
        "id": "nNvs1dcge2wc"
      },
      "source": [
        "#test element-wise for positive or negative infinity."
      ]
    },
    {
      "cell_type": "code",
      "metadata": {
        "id": "aX0LzBx2ej-0"
      },
      "source": [
        "print(np.isinf(a)) # returns true if there is any -ive or +ive infinite value"
      ],
      "execution_count": null,
      "outputs": []
    },
    {
      "cell_type": "code",
      "metadata": {
        "id": "vD-7Yv54f0gd"
      },
      "source": [
        "print(np.isnan(a)) # returns true if there is a nan value"
      ],
      "execution_count": null,
      "outputs": []
    },
    {
      "cell_type": "code",
      "metadata": {
        "id": "DjUfNPIbinN7"
      },
      "source": [
        "a=np.array([1+1j,3.0, 7,-89.7])"
      ],
      "execution_count": null,
      "outputs": []
    },
    {
      "cell_type": "markdown",
      "metadata": {
        "id": "MdCSlqIHiRRj"
      },
      "source": [
        "#np.iscomplex() ----> Returns true if finds a complex number "
      ]
    },
    {
      "cell_type": "code",
      "metadata": {
        "id": "OJWAPhyFial8"
      },
      "source": [
        "print(np.iscomplex(a))"
      ],
      "execution_count": null,
      "outputs": []
    },
    {
      "cell_type": "markdown",
      "metadata": {
        "id": "OCVgVI_mjAxa"
      },
      "source": [
        "#np.isreal() ---> Returns true if finds real number "
      ]
    },
    {
      "cell_type": "code",
      "metadata": {
        "id": "PO7ZLnzTi-UR"
      },
      "source": [
        "print(np.isreal(a))"
      ],
      "execution_count": null,
      "outputs": []
    },
    {
      "cell_type": "markdown",
      "metadata": {
        "id": "UyDEAyXUjRK-"
      },
      "source": [
        "#np.isscalar() -----> Returns true of it finds a scalar "
      ]
    },
    {
      "cell_type": "code",
      "metadata": {
        "id": "9n9wwDJEjRzK"
      },
      "source": [
        "print(np.isscalar(3.1))\n",
        "print(np.isscalar([3.1]))"
      ],
      "execution_count": null,
      "outputs": []
    },
    {
      "cell_type": "markdown",
      "metadata": {
        "id": "RKh7f8dJ0WeO"
      },
      "source": [
        "# Element-wise comparison"
      ]
    },
    {
      "cell_type": "code",
      "metadata": {
        "id": "n3hAfZ3T0npr"
      },
      "source": [
        "x = np.array([3,5,1])\n",
        "y = np.array([1,5,3])"
      ],
      "execution_count": null,
      "outputs": []
    },
    {
      "cell_type": "code",
      "metadata": {
        "id": "byygFN-PpWF5"
      },
      "source": [
        "# greater\n",
        "print(np.greater(x, y))"
      ],
      "execution_count": null,
      "outputs": []
    },
    {
      "cell_type": "code",
      "metadata": {
        "id": "WjM9gczw1XtN"
      },
      "source": [
        "# greater_equal\n",
        "print(np.greater_equal(x, y))"
      ],
      "execution_count": null,
      "outputs": []
    },
    {
      "cell_type": "code",
      "metadata": {
        "id": "BNXZQkIh1mOQ"
      },
      "source": [
        "# less\n",
        "print(np.less(x, y))"
      ],
      "execution_count": null,
      "outputs": []
    },
    {
      "cell_type": "code",
      "metadata": {
        "id": "26SCsGhv1xIY"
      },
      "source": [
        "# less_equal\n",
        "print(np.less_equal(x, y))"
      ],
      "execution_count": null,
      "outputs": []
    }
  ]
}