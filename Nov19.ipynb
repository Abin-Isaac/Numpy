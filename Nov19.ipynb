{
  "nbformat": 4,
  "nbformat_minor": 0,
  "metadata": {
    "colab": {
      "name": "Numpy.ipynb",
      "private_outputs": true,
      "provenance": []
    },
    "kernelspec": {
      "name": "python3",
      "display_name": "Python 3"
    },
    "language_info": {
      "name": "python"
    }
  },
  "cells": [

    {
      "cell_type": "markdown",
      "metadata": {
        "id": "8-Vg9vb0bfBY"
      },
      "source": [
        "WAP to find numpy version and build confguration"
      ]
    },
    {
      "cell_type": "code",
      "metadata": {
        "id": "W15Uf89pbcq7"
      },
      "source": [
        "print(np.__version__)\n",
        "print(np.show_config())"
      ],
      "execution_count": null,
      "outputs": []
    },
    {
      "cell_type": "markdown",
      "metadata": {
        "id": "cCFol6h9j14T"
      },
      "source": [
        "Write a NumPy program to test whether all the elements of a given array is non zero. "
      ]
    },
    {
      "cell_type": "code",
      "metadata": {
        "id": "yNRtDPCtf5J-"
      },
      "source": [
        "x = np.array([0, 1, 2, 3])\n",
        "print(np.all(x)) # returns true  if it has no zero element"
      ],
      "execution_count": null,
      "outputs": []
    },
    {
      "cell_type": "markdown",
      "metadata": {
        "id": "S7CTWLMTj--n"
      },
      "source": [
        "Write a NumPy program to test if any of the element of a given array is zero."
      ]
    },
    {
      "cell_type": "code",
      "metadata": {
        "id": "HvL_-8xKhw3T"
      },
      "source": [
        "x = np.array([0, 1, 2, 3])\n",
        "print(np.any(x)) # returns True  if it has any non zero element"
      ],
      "execution_count": null,
      "outputs": []
    },
    {
      "cell_type": "markdown",
      "metadata": {
        "id": "sYgD2dnkjVP7"
      },
      "source": [
        "Write a NumPy program to test a given array element-wise for finiteness (not infinity or NAN)."
      ]
    },
    {
      "cell_type": "code",
      "metadata": {
        "id": "wDXYGxW1jcHp"
      },
      "source": [
        "a=[1,0,0,np.na, np.inf]\n",
        "print(np.isfinite(a)\n"
      ],
      "execution_count": null,
      "outputs": []
    }
  ]
}