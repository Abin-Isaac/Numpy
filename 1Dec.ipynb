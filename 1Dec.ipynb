{
  "nbformat": 4,
  "nbformat_minor": 0,
  "metadata": {
    "colab": {
      "name": "1Dec.ipynb",
      "private_outputs": true,
      "provenance": []
    },
    "kernelspec": {
      "name": "python3",
      "display_name": "Python 3"
    },
    "language_info": {
      "name": "python"
    }
  },
  "cells": [
    {
      "cell_type": "markdown",
      "metadata": {
        "id": "c0X6mAkBmaTB"
      },
      "source": [
        "Source Links :\n",
        "\n",
        "[https://www.nfaicompany.com/numpy-mcqs/](https://)\n",
        "\n",
        "[https://www.w3schools.com/python/numpy/numpy_ufunc.asp](https://)\n",
        "\n",
        "Author : Abin Isaac\n"
      ]
    },
    {
      "cell_type": "markdown",
      "metadata": {
        "id": "S3RvI4iFtPnS"
      },
      "source": [
        "##ufunc stand for Universal function. \n",
        "\n",
        "\n",
        "*   faster       \n",
        "*   easier\n",
        "*   broadcasting and other (reduce, accumulate)\n",
        "*   Uses Vectorization method\n",
        "\n",
        "why Faster ? modern CPUs are optimized for such operations.\n",
        "\n",
        "Vectorization : Converting iterative statements into a vector based operation is called vectorization.\n",
        "\n",
        "\n",
        "\n",
        "##ufuncs also take additional arguments, like:\n",
        "\n",
        "where boolean array or condition defining where the operations should take place.\n",
        "\n",
        "dtype defining the return type of elements.\n",
        "\n",
        "out output array where the return value should be copied.\n",
        "\n"
      ]
    },
    {
      "cell_type": "markdown",
      "metadata": {
        "id": "qo3-21QxsmCP"
      },
      "source": [
        "#Numpy questions"
      ]
    },
    {
      "cell_type": "code",
      "metadata": {
        "id": "PnGoGk4TmFy8"
      },
      "source": [
        " import numpy as np\n",
        " a = np.array([[1,2,3],[0,1,4]]) \n",
        " b = np.zeros((2,3), dtype=np.int16)\n",
        " c = np.ones((2,3), dtype=np.int16)\n",
        " d = a + b + c\n",
        " print (d[1,2] )"
      ],
      "execution_count": null,
      "outputs": []
    },
    {
      "cell_type": "code",
      "metadata": {
        "id": "x6ke5pC9mPnj"
      },
      "source": [
        " import numpy as np \n",
        " dt = dt = np.dtype('i4') \n",
        " print(dt)"
      ],
      "execution_count": null,
      "outputs": []
    },
    {
      "cell_type": "markdown",
      "metadata": {
        "id": "0MXVGd6Tspxz"
      },
      "source": [
        "# Creating a custom numpy ufunc function "
      ]
    },
    {
      "cell_type": "code",
      "metadata": {
        "id": "Pd6eOqCpoeVb"
      },
      "source": [
        "import numpy as np\n",
        "\n",
        "def myadd(x, y ):\n",
        "  return x+y\n",
        "\n",
        "myadd = np.frompyfunc(myadd, 2, 1) # frompyfunc(function, no. of inputs, no. of outputs )\n",
        "\n",
        "print(myadd([1, 2, 3, 4], [5, 6, 7, 8]))"
      ],
      "execution_count": null,
      "outputs": []
    },
    {
      "cell_type": "markdown",
      "metadata": {
        "id": "8uBW_U2ks5Oi"
      },
      "source": [
        "# Checking the type of ufuc function "
      ]
    },
    {
      "cell_type": "code",
      "metadata": {
        "id": "irtF01BdpFlo"
      },
      "source": [
        "print(type(np.add))"
      ],
      "execution_count": null,
      "outputs": []
    },
    {
      "cell_type": "code",
      "metadata": {
        "id": "VBPT1KExpKLU"
      },
      "source": [
        "print(type(np.concatenate))"
      ],
      "execution_count": null,
      "outputs": []
    },
    {
      "cell_type": "code",
      "metadata": {
        "id": "Wfo5b0mMpUn9"
      },
      "source": [
        "if type(np.add) == np.ufunc:\n",
        "  print('add is ufunc')\n",
        "else:\n",
        "  print('add is not ufunc')"
      ],
      "execution_count": null,
      "outputs": []
    },
    {
      "cell_type": "markdown",
      "metadata": {
        "id": "6slJvgFiqQWf"
      },
      "source": [
        "# Setting the size of ufunc buffer size"
      ]
    },
    {
      "cell_type": "code",
      "metadata": {
        "id": "WsTLQx33qDUu"
      },
      "source": [
        "#np.setbufsize(32) # should be multiple of 16"
      ],
      "execution_count": null,
      "outputs": []
    },
    {
      "cell_type": "markdown",
      "metadata": {
        "id": "hOE3DXNJroSE"
      },
      "source": [
        "# Getting the current buffer size in numpy ufunc or universal function "
      ]
    },
    {
      "cell_type": "code",
      "metadata": {
        "id": "gzrnVwVoqapA"
      },
      "source": [
        "np.getbufsize()"
      ],
      "execution_count": null,
      "outputs": []
    }
  ]
}