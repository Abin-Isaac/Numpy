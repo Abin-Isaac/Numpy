{
  "nbformat": 4,
  "nbformat_minor": 0,
  "metadata": {
    "colab": {
      "name": "23Nov.ipynb",
      "private_outputs": true,
      "provenance": []
    },
    "kernelspec": {
      "name": "python3",
      "display_name": "Python 3"
    },
    "language_info": {
      "name": "python"
    }
  },
  "cells": [
    {
      "cell_type": "markdown",
      "metadata": {
        "id": "BVFXrraDWY_y"
      },
      "source": [
        "# Finding the Size in Numpy"
      ]
    },
    {
      "cell_type": "code",
      "metadata": {
        "id": "mSkZG3UQWoVM"
      },
      "source": [
        "import numpy as np\n",
        "X = np.array([1, 7, 13, 105])\n",
        "print(X)"
      ],
      "execution_count": null,
      "outputs": []
    },
    {
      "cell_type": "code",
      "metadata": {
        "id": "bMD1wNlPWt8N"
      },
      "source": [
        "print(\"Size of the memory occupied by the said array:\")\n",
        "print(X.size)\n",
        "print(X.itemsize)\n",
        "print(\"%d bytes\" % (X.size * X.itemsize))"
      ],
      "execution_count": null,
      "outputs": []
    },
    {
      "cell_type": "markdown",
      "metadata": {
        "id": "AuGZ9TzcXH3Y"
      },
      "source": [
        "# Numpy Zero array "
      ]
    },
    {
      "cell_type": "code",
      "metadata": {
        "id": "0jF-dWKOXOS_"
      },
      "source": [
        "print(np.zeros(10))"
      ],
      "execution_count": null,
      "outputs": []
    },
    {
      "cell_type": "markdown",
      "metadata": {
        "id": "XKY0bZykX09y"
      },
      "source": [
        "# Numpy one array"
      ]
    },
    {
      "cell_type": "code",
      "metadata": {
        "id": "HHcdzcOZXm3Y"
      },
      "source": [
        "print(np.ones(10))"
      ],
      "execution_count": null,
      "outputs": []
    },
    {
      "cell_type": "markdown",
      "metadata": {
        "id": "bcYzEGzdX6kt"
      },
      "source": [
        "# Numpy Five array"
      ]
    },
    {
      "cell_type": "code",
      "metadata": {
        "id": "vvK2Fw8iXqrA"
      },
      "source": [
        "print(np.ones(10)*5)"
      ],
      "execution_count": null,
      "outputs": []
    }
  ]
}