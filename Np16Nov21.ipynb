{
  "nbformat": 4,
  "nbformat_minor": 0,
  "metadata": {
    "colab": {
      "name": "Numpy.ipynb",
      "private_outputs": true,
      "provenance": []
    },
    "kernelspec": {
      "name": "python3",
      "display_name": "Python 3"
    },
    "language_info": {
      "name": "python"
    }
  },
  "cells": [
    {
      "cell_type": "markdown",
      "metadata": {
        "id": "FfAQw8AIdEeu"
      },
      "source": [
        "save and load in Numpy in .npy  file format"
      ]
    },
    {
      "cell_type": "code",
      "metadata": {
        "id": "cR3B95lnc7f3"
      },
      "source": [
        "import numpy as np \n",
        "data = np.array([1,2,3,4])\n",
        "print(data)"
      ],
      "execution_count": null,
      "outputs": []
    },
    {
      "cell_type": "code",
      "metadata": {
        "id": "ITwaomg-eRB3"
      },
      "source": [
        "np.save('First_npy_file',data)"
      ],
      "execution_count": null,
      "outputs": []
    },
    {
      "cell_type": "markdown",
      "metadata": {
        "id": "mWMqqwiIfFLY"
      },
      "source": [
        "Reusing in the same file\n",
        "\n",
        ".npy file is fast to import /export"
      ]
    },
    {
      "cell_type": "code",
      "metadata": {
        "id": "LaPTfekLeWs7"
      },
      "source": [
        "arr = np.load('First_npy_file.npy')\n",
        "print(arr)\n",
        "print(type(arr))"
      ],
      "execution_count": null,
      "outputs": []
    },
    {
      "cell_type": "markdown",
      "metadata": {
        "id": "z0VSl2VIgDTH"
      },
      "source": [
        "reshape method "
      ]
    },
    {
      "cell_type": "code",
      "metadata": {
        "id": "akjgXSHMgGJL"
      },
      "source": [
        "array=np.array([1,2,3,4])\n",
        "array1 = np.reshape(array,(2,2))\n",
        "array2=array.reshape(2,2)\n",
        "array, array1, array2"
      ],
      "execution_count": null,
      "outputs": []
    }
  ]
}